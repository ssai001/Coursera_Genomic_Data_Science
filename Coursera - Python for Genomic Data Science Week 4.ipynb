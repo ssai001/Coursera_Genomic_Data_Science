{
 "cells": [
  {
   "cell_type": "code",
   "execution_count": 17,
   "metadata": {},
   "outputs": [],
   "source": [
    "#Reading Files\n",
    "\n",
    "#f=open('myfile', 'r') OR f=open('myfile')\n",
    "\n",
    "#Writing Files\n",
    "#f=open('myfile', 'w')\n",
    "#To append to end of existing file, use f=open('myfile', 'a')"
   ]
  },
  {
   "cell_type": "code",
   "execution_count": 18,
   "metadata": {},
   "outputs": [],
   "source": [
    "f=open('myfile', 'r')"
   ]
  },
  {
   "cell_type": "code",
   "execution_count": 19,
   "metadata": {},
   "outputs": [
    {
     "data": {
      "text/plain": [
       "0"
      ]
     },
     "execution_count": 19,
     "metadata": {},
     "output_type": "execute_result"
    }
   ],
   "source": [
    "f.seek(0)"
   ]
  },
  {
   "cell_type": "code",
   "execution_count": 20,
   "metadata": {},
   "outputs": [
    {
     "data": {
      "text/plain": [
       "'This is the first line of the file.\\nSecond line of the file.This is a third line'"
      ]
     },
     "execution_count": 20,
     "metadata": {},
     "output_type": "execute_result"
    }
   ],
   "source": [
    "f.read()"
   ]
  },
  {
   "cell_type": "code",
   "execution_count": 21,
   "metadata": {},
   "outputs": [
    {
     "data": {
      "text/plain": [
       "0"
      ]
     },
     "execution_count": 21,
     "metadata": {},
     "output_type": "execute_result"
    }
   ],
   "source": [
    "f.seek(0)"
   ]
  },
  {
   "cell_type": "code",
   "execution_count": 22,
   "metadata": {},
   "outputs": [
    {
     "data": {
      "text/plain": [
       "'This is the first line of the file.\\n'"
      ]
     },
     "execution_count": 22,
     "metadata": {},
     "output_type": "execute_result"
    }
   ],
   "source": [
    "f.readline()"
   ]
  },
  {
   "cell_type": "code",
   "execution_count": 23,
   "metadata": {},
   "outputs": [],
   "source": [
    "f=open('/Users/siddh/Anaconda3/myfile', 'a')"
   ]
  },
  {
   "cell_type": "code",
   "execution_count": 24,
   "metadata": {},
   "outputs": [
    {
     "data": {
      "text/plain": [
       "20"
      ]
     },
     "execution_count": 24,
     "metadata": {},
     "output_type": "execute_result"
    }
   ],
   "source": [
    "f.write('This is a third line')"
   ]
  },
  {
   "cell_type": "code",
   "execution_count": 25,
   "metadata": {},
   "outputs": [],
   "source": [
    "#Closing a file object\n",
    "f.close()"
   ]
  },
  {
   "cell_type": "code",
   "execution_count": 26,
   "metadata": {},
   "outputs": [],
   "source": [
    "#If you type f.read() after f.close(), an error will occur since the file is no longer open"
   ]
  },
  {
   "cell_type": "code",
   "execution_count": 15,
   "metadata": {},
   "outputs": [],
   "source": [
    "#Reading a FASTA file - Build a dictionary containing all the sequences from a FASTA file\n",
    "\n",
    "try:\n",
    "    f=open(\"fastafile.fa\")\n",
    "except IOError:\n",
    "    print(\"File fastafile.fa does not exist!!\")\n",
    "seqs={}\n",
    "for line in f:\n",
    "    line = line.rstrip() #disregard newline at the end (if any)\n",
    "    if line[0]=='>': #or line.startswith('>')\n",
    "        words=line.split() #converts each base from a single string into list form\n",
    "        name=words[0][1:]\n",
    "        seqs[name]=''\n",
    "    else: #sequence, not header\n",
    "        seqs[name] = seqs[name] + line\n"
   ]
  },
  {
   "cell_type": "code",
   "execution_count": 1,
   "metadata": {},
   "outputs": [],
   "source": [
    "import Bio"
   ]
  },
  {
   "cell_type": "code",
   "execution_count": 3,
   "metadata": {},
   "outputs": [
    {
     "name": "stdout",
     "output_type": "stream",
     "text": [
      "1.74\n"
     ]
    }
   ],
   "source": [
    "print(Bio.__version__)"
   ]
  },
  {
   "cell_type": "code",
   "execution_count": 5,
   "metadata": {},
   "outputs": [],
   "source": [
    "#Find from what species an unknown DNA sequence came from\n",
    "\n",
    "from Bio.Blast import NCBIWWW\n",
    "fasta_string = open(\"myseq.fa\").read()\n",
    "result_handle = NCBIWWW.qblast(\"blastn\", \"nt\", fasta_string)"
   ]
  },
  {
   "cell_type": "code",
   "execution_count": 6,
   "metadata": {},
   "outputs": [
    {
     "name": "stdout",
     "output_type": "stream",
     "text": [
      "<_io.StringIO object at 0x000001E91A2583A8>\n"
     ]
    }
   ],
   "source": [
    "print(result_handle)"
   ]
  },
  {
   "cell_type": "code",
   "execution_count": 7,
   "metadata": {},
   "outputs": [
    {
     "name": "stdout",
     "output_type": "stream",
     "text": [
      "Help on function qblast in module Bio.Blast.NCBIWWW:\n",
      "\n",
      "qblast(program, database, sequence, url_base='https://blast.ncbi.nlm.nih.gov/Blast.cgi', auto_format=None, composition_based_statistics=None, db_genetic_code=None, endpoints=None, entrez_query='(none)', expect=10.0, filter=None, gapcosts=None, genetic_code=None, hitlist_size=50, i_thresh=None, layout=None, lcase_mask=None, matrix_name=None, nucl_penalty=None, nucl_reward=None, other_advanced=None, perc_ident=None, phi_pattern=None, query_file=None, query_believe_defline=None, query_from=None, query_to=None, searchsp_eff=None, service=None, threshold=None, ungapped_alignment=None, word_size=None, short_query=None, alignments=500, alignment_view=None, descriptions=500, entrez_links_new_window=None, expect_low=None, expect_high=None, format_entrez_query=None, format_object=None, format_type='XML', ncbi_gi=None, results_file=None, show_overview=None, megablast=None, template_type=None, template_length=None)\n",
      "    BLAST search using NCBI's QBLAST server or a cloud service provider.\n",
      "    \n",
      "    Supports all parameters of the old qblast API for Put and Get.\n",
      "    \n",
      "    Please note that NCBI uses the new Common URL API for BLAST searches\n",
      "    on the internet (http://ncbi.github.io/blast-cloud/dev/api.html). Thus,\n",
      "    some of the parameters used by this function are not (or are no longer)\n",
      "    officially supported by NCBI. Although they are still functioning, this\n",
      "    may change in the future.\n",
      "    \n",
      "    The Common URL API (http://ncbi.github.io/blast-cloud/dev/api.html) allows\n",
      "    doing BLAST searches on cloud servers. To use this feature, please set\n",
      "    ``url_base='http://host.my.cloud.service.provider.com/cgi-bin/blast.cgi'``\n",
      "    and ``format_object='Alignment'``. For more details, please see\n",
      "    https://blast.ncbi.nlm.nih.gov/Blast.cgi?PAGE_TYPE=BlastDocs&DOC_TYPE=CloudBlast\n",
      "    \n",
      "    Some useful parameters:\n",
      "    \n",
      "     - program        blastn, blastp, blastx, tblastn, or tblastx (lower case)\n",
      "     - database       Which database to search against (e.g. \"nr\").\n",
      "     - sequence       The sequence to search.\n",
      "     - ncbi_gi        TRUE/FALSE whether to give 'gi' identifier.\n",
      "     - descriptions   Number of descriptions to show.  Def 500.\n",
      "     - alignments     Number of alignments to show.  Def 500.\n",
      "     - expect         An expect value cutoff.  Def 10.0.\n",
      "     - matrix_name    Specify an alt. matrix (PAM30, PAM70, BLOSUM80, BLOSUM45).\n",
      "     - filter         \"none\" turns off filtering.  Default no filtering\n",
      "     - format_type    \"HTML\", \"Text\", \"ASN.1\", or \"XML\".  Def. \"XML\".\n",
      "     - entrez_query   Entrez query to limit Blast search\n",
      "     - hitlist_size   Number of hits to return. Default 50\n",
      "     - megablast      TRUE/FALSE whether to use MEga BLAST algorithm (blastn only)\n",
      "     - short_query    TRUE/FALSE whether to adjust the search parameters for a\n",
      "                      short query sequence. Note that this will override\n",
      "                      manually set parameters like word size and e value. Turns\n",
      "                      off when sequence length is > 30 residues. Default: None.\n",
      "     - service        plain, psi, phi, rpsblast, megablast (lower case)\n",
      "    \n",
      "    This function does no checking of the validity of the parameters\n",
      "    and passes the values to the server as is.  More help is available at:\n",
      "    https://ncbi.github.io/blast-cloud/dev/api.html\n",
      "\n"
     ]
    }
   ],
   "source": [
    "help(NCBIWWW.qblast)"
   ]
  },
  {
   "cell_type": "code",
   "execution_count": 11,
   "metadata": {},
   "outputs": [],
   "source": [
    "from Bio.Blast import NCBIXML\n",
    "blast_record = NCBIXML.read(result_handle)"
   ]
  },
  {
   "cell_type": "code",
   "execution_count": 12,
   "metadata": {},
   "outputs": [
    {
     "data": {
      "text/plain": [
       "50"
      ]
     },
     "execution_count": 12,
     "metadata": {},
     "output_type": "execute_result"
    }
   ],
   "source": [
    "len(blast_record.alignments)"
   ]
  },
  {
   "cell_type": "code",
   "execution_count": 13,
   "metadata": {},
   "outputs": [
    {
     "name": "stdout",
     "output_type": "stream",
     "text": [
      "****Alignment****\n",
      "sequence: gi|1503253460|gb|MK114118.1| Zaire ebolavirus isolate Ebola virus/H.sapiens-tc/COD/1976/Yambuku-Mayinga, partial genome\n",
      "length: 18936\n",
      "e value: 7.36416e-29\n",
      "CATGCTACGGTGCTAAAAGCATTACGCCCTATAGTGATTTTCGAGACATACTGTGTTTTTAAATATAGTATTGCC\n",
      "|||||||||||||||||||||||||||||||||||||||||||||||||||||||||||||||||||||||||||\n",
      "CATGCTACGGTGCTAAAAGCATTACGCCCTATAGTGATTTTCGAGACATACTGTGTTTTTAAATATAGTATTGCC\n",
      "****Alignment****\n",
      "sequence: gi|1282621605|gb|MG572235.1| Zaire ebolavirus isolate Ebola virus/H.sapiens-tc/COD/1995/Kikwit-9510621, complete genome\n",
      "length: 18957\n",
      "e value: 7.36416e-29\n",
      "CATGCTACGGTGCTAAAAGCATTACGCCCTATAGTGATTTTCGAGACATACTGTGTTTTTAAATATAGTATTGCC\n",
      "|||||||||||||||||||||||||||||||||||||||||||||||||||||||||||||||||||||||||||\n",
      "CATGCTACGGTGCTAAAAGCATTACGCCCTATAGTGATTTTCGAGACATACTGTGTTTTTAAATATAGTATTGCC\n",
      "****Alignment****\n",
      "sequence: gi|1500174811|gb|MK044561.1| Zaire ebolavirus isolate ZEBOV/Human/DRC/2014/BOE_036, partial genome\n",
      "length: 18898\n",
      "e value: 7.36416e-29\n",
      "CATGCTACGGTGCTAAAAGCATTACGCCCTATAGTGATTTTCGAGACATACTGTGTTTTTAAATATAGTATTGCC\n",
      "|||||||||||||||||||||||||||||||||||||||||||||||||||||||||||||||||||||||||||\n",
      "CATGCTACGGTGCTAAAAGCATTACGCCCTATAGTGATTTTCGAGACATACTGTGTTTTTAAATATAGTATTGCC\n",
      "****Alignment****\n",
      "sequence: gi|1500174801|gb|MK044560.1| Zaire ebolavirus isolate ZEBOV/Human/DRC/2014/BOE_023, partial genome\n",
      "length: 18870\n",
      "e value: 7.36416e-29\n",
      "CATGCTACGGTGCTAAAAGCATTACGCCCTATAGTGATTTTCGAGACATACTGTGTTTTTAAATATAGTATTGCC\n",
      "|||||||||||||||||||||||||||||||||||||||||||||||||||||||||||||||||||||||||||\n",
      "CATGCTACGGTGCTAAAAGCATTACGCCCTATAGTGATTTTCGAGACATACTGTGTTTTTAAATATAGTATTGCC\n",
      "****Alignment****\n",
      "sequence: gi|1500174791|gb|MK044559.1| Zaire ebolavirus isolate ZEBOV/Human/DRC/2014/BOE_011, partial genome\n",
      "length: 18896\n",
      "e value: 7.36416e-29\n",
      "CATGCTACGGTGCTAAAAGCATTACGCCCTATAGTGATTTTCGAGACATACTGTGTTTTTAAATATAGTATTGCC\n",
      "|||||||||||||||||||||||||||||||||||||||||||||||||||||||||||||||||||||||||||\n",
      "CATGCTACGGTGCTAAAAGCATTACGCCCTATAGTGATTTTCGAGACATACTGTGTTTTTAAATATAGTATTGCC\n",
      "****Alignment****\n",
      "sequence: gi|1500174781|gb|MK044558.1| Zaire ebolavirus isolate ZEBOV/Human/DRC/2014/BOE-070, partial genome\n",
      "length: 18784\n",
      "e value: 7.36416e-29\n",
      "CATGCTACGGTGCTAAAAGCATTACGCCCTATAGTGATTTTCGAGACATACTGTGTTTTTAAATATAGTATTGCC\n",
      "|||||||||||||||||||||||||||||||||||||||||||||||||||||||||||||||||||||||||||\n",
      "CATGCTACGGTGCTAAAAGCATTACGCCCTATAGTGATTTTCGAGACATACTGTGTTTTTAAATATAGTATTGCC\n",
      "****Alignment****\n",
      "sequence: gi|1487704041|gb|MH898466.1| Zaire ebolavirus isolate Ebola virus/H.sapiens-wt/COD/2018/Tumba-BIK012, partial genome\n",
      "length: 18887\n",
      "e value: 7.36416e-29\n",
      "CATGCTACGGTGCTAAAAGCATTACGCCCTATAGTGATTTTCGAGACATACTGTGTTTTTAAATATAGTATTGCC\n",
      "|||||||||||||||||||||||||||||||||||||||||||||||||||||||||||||||||||||||||||\n",
      "CATGCTACGGTGCTAAAAGCATTACGCCCTATAGTGATTTTCGAGACATACTGTGTTTTTAAATATAGTATTGCC\n",
      "****Alignment****\n",
      "sequence: gi|1453301462|gb|MH733491.1| Zaire ebolavirus isolate Ebola virus/H.sapiens-wt/COD/2018/Tumba-BIK137, complete genome\n",
      "length: 18939\n",
      "e value: 7.36416e-29\n",
      "CATGCTACGGTGCTAAAAGCATTACGCCCTATAGTGATTTTCGAGACATACTGTGTTTTTAAATATAGTATTGCC\n",
      "|||||||||||||||||||||||||||||||||||||||||||||||||||||||||||||||||||||||||||\n",
      "CATGCTACGGTGCTAAAAGCATTACGCCCTATAGTGATTTTCGAGACATACTGTGTTTTTAAATATAGTATTGCC\n",
      "****Alignment****\n",
      "sequence: gi|1453301452|gb|MH733490.1| Zaire ebolavirus isolate Ebola virus/H.sapiens-wt/COD/2018/Tumba-BIK091, complete genome\n",
      "length: 18932\n",
      "e value: 7.36416e-29\n",
      "CATGCTACGGTGCTAAAAGCATTACGCCCTATAGTGATTTTCGAGACATACTGTGTTTTTAAATATAGTATTGCC\n",
      "|||||||||||||||||||||||||||||||||||||||||||||||||||||||||||||||||||||||||||\n",
      "CATGCTACGGTGCTAAAAGCATTACGCCCTATAGTGATTTTCGAGACATACTGTGTTTTTAAATATAGTATTGCC\n",
      "****Alignment****\n",
      "sequence: gi|1453301442|gb|MH733489.1| Zaire ebolavirus isolate Ebola virus/H.sapiens-wt/COD/2018/Tumba-BIK055, complete genome\n",
      "length: 18913\n",
      "e value: 7.36416e-29\n",
      "CATGCTACGGTGCTAAAAGCATTACGCCCTATAGTGATTTTCGAGACATACTGTGTTTTTAAATATAGTATTGCC\n",
      "|||||||||||||||||||||||||||||||||||||||||||||||||||||||||||||||||||||||||||\n",
      "CATGCTACGGTGCTAAAAGCATTACGCCCTATAGTGATTTTCGAGACATACTGTGTTTTTAAATATAGTATTGCC\n",
      "****Alignment****\n",
      "sequence: gi|1453301422|gb|MH733487.1| Zaire ebolavirus isolate Ebola virus/H.sapiens-wt/COD/2018/Tumba-BIK046, complete genome\n",
      "length: 18919\n",
      "e value: 7.36416e-29\n",
      "CATGCTACGGTGCTAAAAGCATTACGCCCTATAGTGATTTTCGAGACATACTGTGTTTTTAAATATAGTATTGCC\n",
      "|||||||||||||||||||||||||||||||||||||||||||||||||||||||||||||||||||||||||||\n",
      "CATGCTACGGTGCTAAAAGCATTACGCCCTATAGTGATTTTCGAGACATACTGTGTTTTTAAATATAGTATTGCC\n",
      "****Alignment****\n",
      "sequence: gi|1453301412|gb|MH733486.1| Zaire ebolavirus isolate Ebola virus/H.sapiens-wt/COD/2018/Tumba-BIK045, complete genome\n",
      "length: 18914\n",
      "e value: 7.36416e-29\n",
      "CATGCTACGGTGCTAAAAGCATTACGCCCTATAGTGATTTTCGAGACATACTGTGTTTTTAAATATAGTATTGCC\n",
      "|||||||||||||||||||||||||||||||||||||||||||||||||||||||||||||||||||||||||||\n",
      "CATGCTACGGTGCTAAAAGCATTACGCCCTATAGTGATTTTCGAGACATACTGTGTTTTTAAATATAGTATTGCC\n",
      "****Alignment****\n",
      "sequence: gi|1453301402|gb|MH733485.1| Zaire ebolavirus isolate Ebola virus/H.sapiens-wt/COD/2018/Tumba-BIK039, complete genome\n",
      "length: 18940\n",
      "e value: 7.36416e-29\n",
      "CATGCTACGGTGCTAAAAGCATTACGCCCTATAGTGATTTTCGAGACATACTGTGTTTTTAAATATAGTATTGCC\n",
      "|||||||||||||||||||||||||||||||||||||||||||||||||||||||||||||||||||||||||||\n",
      "CATGCTACGGTGCTAAAAGCATTACGCCCTATAGTGATTTTCGAGACATACTGTGTTTTTAAATATAGTATTGCC\n",
      "****Alignment****\n",
      "sequence: gi|1453301392|gb|MH733484.1| Zaire ebolavirus isolate Ebola virus/H.sapiens-wt/COD/2018/Tumba-BIK037, complete genome\n",
      "length: 18905\n",
      "e value: 7.36416e-29\n",
      "CATGCTACGGTGCTAAAAGCATTACGCCCTATAGTGATTTTCGAGACATACTGTGTTTTTAAATATAGTATTGCC\n",
      "|||||||||||||||||||||||||||||||||||||||||||||||||||||||||||||||||||||||||||\n",
      "CATGCTACGGTGCTAAAAGCATTACGCCCTATAGTGATTTTCGAGACATACTGTGTTTTTAAATATAGTATTGCC\n",
      "****Alignment****\n",
      "sequence: gi|1453301382|gb|MH733483.1| Zaire ebolavirus isolate Ebola virus/H.sapiens-wt/COD/2018/Tumba-BIK031, complete genome\n",
      "length: 18944\n",
      "e value: 7.36416e-29\n",
      "CATGCTACGGTGCTAAAAGCATTACGCCCTATAGTGATTTTCGAGACATACTGTGTTTTTAAATATAGTATTGCC\n",
      "|||||||||||||||||||||||||||||||||||||||||||||||||||||||||||||||||||||||||||\n",
      "CATGCTACGGTGCTAAAAGCATTACGCCCTATAGTGATTTTCGAGACATACTGTGTTTTTAAATATAGTATTGCC\n",
      "****Alignment****\n",
      "sequence: gi|1453301372|gb|MH733482.1| Zaire ebolavirus isolate Ebola virus/H.sapiens-wt/COD/2018/Tumba-BIK026, complete genome\n",
      "length: 18944\n",
      "e value: 7.36416e-29\n",
      "CATGCTACGGTGCTAAAAGCATTACGCCCTATAGTGATTTTCGAGACATACTGTGTTTTTAAATATAGTATTGCC\n",
      "|||||||||||||||||||||||||||||||||||||||||||||||||||||||||||||||||||||||||||\n",
      "CATGCTACGGTGCTAAAAGCATTACGCCCTATAGTGATTTTCGAGACATACTGTGTTTTTAAATATAGTATTGCC\n",
      "****Alignment****\n",
      "sequence: gi|1453301362|gb|MH733481.1| Zaire ebolavirus isolate Ebola virus/H.sapiens-wt/COD/2018/Tumba-BIK025, complete genome\n",
      "length: 18939\n",
      "e value: 7.36416e-29\n",
      "CATGCTACGGTGCTAAAAGCATTACGCCCTATAGTGATTTTCGAGACATACTGTGTTTTTAAATATAGTATTGCC\n",
      "|||||||||||||||||||||||||||||||||||||||||||||||||||||||||||||||||||||||||||\n",
      "CATGCTACGGTGCTAAAAGCATTACGCCCTATAGTGATTTTCGAGACATACTGTGTTTTTAAATATAGTATTGCC\n",
      "****Alignment****\n",
      "sequence: gi|1453301352|gb|MH733480.1| Zaire ebolavirus isolate Ebola virus/H.sapiens-wt/COD/2018/Tumba-BIK019, complete genome\n",
      "length: 18938\n",
      "e value: 7.36416e-29\n",
      "CATGCTACGGTGCTAAAAGCATTACGCCCTATAGTGATTTTCGAGACATACTGTGTTTTTAAATATAGTATTGCC\n",
      "|||||||||||||||||||||||||||||||||||||||||||||||||||||||||||||||||||||||||||\n",
      "CATGCTACGGTGCTAAAAGCATTACGCCCTATAGTGATTTTCGAGACATACTGTGTTTTTAAATATAGTATTGCC\n",
      "****Alignment****\n",
      "sequence: gi|1453301342|gb|MH733479.1| Zaire ebolavirus isolate Ebola virus/H.sapiens-wt/COD/2018/Tumba-BIK016, complete genome\n",
      "length: 18944\n",
      "e value: 7.36416e-29\n",
      "CATGCTACGGTGCTAAAAGCATTACGCCCTATAGTGATTTTCGAGACATACTGTGTTTTTAAATATAGTATTGCC\n",
      "|||||||||||||||||||||||||||||||||||||||||||||||||||||||||||||||||||||||||||\n",
      "CATGCTACGGTGCTAAAAGCATTACGCCCTATAGTGATTTTCGAGACATACTGTGTTTTTAAATATAGTATTGCC\n",
      "****Alignment****\n",
      "sequence: gi|1453301332|gb|MH733478.1| Zaire ebolavirus isolate Ebola virus/H.sapiens-wt/COD/2018/Tumba-BIK011, complete genome\n",
      "length: 18941\n",
      "e value: 7.36416e-29\n",
      "CATGCTACGGTGCTAAAAGCATTACGCCCTATAGTGATTTTCGAGACATACTGTGTTTTTAAATATAGTATTGCC\n",
      "|||||||||||||||||||||||||||||||||||||||||||||||||||||||||||||||||||||||||||\n",
      "CATGCTACGGTGCTAAAAGCATTACGCCCTATAGTGATTTTCGAGACATACTGTGTTTTTAAATATAGTATTGCC\n",
      "****Alignment****\n",
      "sequence: gi|1453301322|gb|MH733477.1| Zaire ebolavirus isolate Ebola virus/H.sapiens-wt/COD/2018/Tumba-BIK009, complete genome\n",
      "length: 18894\n",
      "e value: 7.36416e-29\n",
      "CATGCTACGGTGCTAAAAGCATTACGCCCTATAGTGATTTTCGAGACATACTGTGTTTTTAAATATAGTATTGCC\n",
      "|||||||||||||||||||||||||||||||||||||||||||||||||||||||||||||||||||||||||||\n",
      "CATGCTACGGTGCTAAAAGCATTACGCCCTATAGTGATTTTCGAGACATACTGTGTTTTTAAATATAGTATTGCC\n",
      "****Alignment****\n",
      "sequence: gi|1517365859|gb|MK088515.1| Zaire ebolavirus isolate Ebola virus/H.sapiens-wt/COD/2017/Muyembe-18FHV012b, complete genome\n",
      "length: 18934\n",
      "e value: 7.36416e-29\n",
      "CATGCTACGGTGCTAAAAGCATTACGCCCTATAGTGATTTTCGAGACATACTGTGTTTTTAAATATAGTATTGCC\n",
      "|||||||||||||||||||||||||||||||||||||||||||||||||||||||||||||||||||||||||||\n",
      "CATGCTACGGTGCTAAAAGCATTACGCCCTATAGTGATTTTCGAGACATACTGTGTTTTTAAATATAGTATTGCC\n",
      "****Alignment****\n",
      "sequence: gi|1436008541|gb|MH613311.1| Zaire ebolavirus isolate H.sapiens-wt/COD/2017/Muyembe.1, complete genome\n",
      "length: 18899\n",
      "e value: 7.36416e-29\n",
      "CATGCTACGGTGCTAAAAGCATTACGCCCTATAGTGATTTTCGAGACATACTGTGTTTTTAAATATAGTATTGCC\n",
      "|||||||||||||||||||||||||||||||||||||||||||||||||||||||||||||||||||||||||||\n",
      "CATGCTACGGTGCTAAAAGCATTACGCCCTATAGTGATTTTCGAGACATACTGTGTTTTTAAATATAGTATTGCC\n",
      "****Alignment****\n",
      "sequence: gi|1431829175|gb|MH464889.1| Vector pEBO_BDBV-GP, complete sequence\n",
      "length: 21172\n",
      "e value: 7.36416e-29\n",
      "CATGCTACGGTGCTAAAAGCATTACGCCCTATAGTGATTTTCGAGACATACTGTGTTTTTAAATATAGTATTGCC\n",
      "|||||||||||||||||||||||||||||||||||||||||||||||||||||||||||||||||||||||||||\n",
      "CATGCTACGGTGCTAAAAGCATTACGCCCTATAGTGATTTTCGAGACATACTGTGTTTTTAAATATAGTATTGCC\n",
      "****Alignment****\n",
      "sequence: gi|1431829165|gb|MH464888.1| Zaire ebolavirus isolate Ebola virus/H.sapiens-rec/COD/1976/Yambuku-Mayinga-eGFP-BDBV_GP, complete genome\n",
      "length: 18962\n",
      "e value: 7.36416e-29\n",
      "CATGCTACGGTGCTAAAAGCATTACGCCCTATAGTGATTTTCGAGACATACTGTGTTTTTAAATATAGTATTGCC\n",
      "|||||||||||||||||||||||||||||||||||||||||||||||||||||||||||||||||||||||||||\n",
      "CATGCTACGGTGCTAAAAGCATTACGCCCTATAGTGATTTTCGAGACATACTGTGTTTTTAAATATAGTATTGCC\n",
      "****Alignment****\n",
      "sequence: gi|1425140432|gb|MH481611.2| Zaire ebolavirus strain Ebola_virus/DRC/Likati/Human/2017/1, complete genome\n",
      "length: 18898\n",
      "e value: 7.36416e-29\n",
      "CATGCTACGGTGCTAAAAGCATTACGCCCTATAGTGATTTTCGAGACATACTGTGTTTTTAAATATAGTATTGCC\n",
      "|||||||||||||||||||||||||||||||||||||||||||||||||||||||||||||||||||||||||||\n",
      "CATGCTACGGTGCTAAAAGCATTACGCCCTATAGTGATTTTCGAGACATACTGTGTTTTTAAATATAGTATTGCC\n",
      "****Alignment****\n",
      "sequence: gi|1390208419|gb|MH121168.1| Zaire ebolavirus isolate Ebola virus/H.sapiens-tc/Zaire/1976/Mayinga-R3816, complete genome\n",
      "length: 18958\n",
      "e value: 7.36416e-29\n",
      "CATGCTACGGTGCTAAAAGCATTACGCCCTATAGTGATTTTCGAGACATACTGTGTTTTTAAATATAGTATTGCC\n",
      "|||||||||||||||||||||||||||||||||||||||||||||||||||||||||||||||||||||||||||\n",
      "CATGCTACGGTGCTAAAAGCATTACGCCCTATAGTGATTTTCGAGACATACTGTGTTTTTAAATATAGTATTGCC\n",
      "****Alignment****\n",
      "sequence: gi|1390208399|gb|MH121166.1| Zaire ebolavirus isolate Ebola virus/H.sapiens-tc/COD/1976/Yambuku-Mayinga, complete genome\n",
      "length: 18957\n",
      "e value: 7.36416e-29\n",
      "CATGCTACGGTGCTAAAAGCATTACGCCCTATAGTGATTTTCGAGACATACTGTGTTTTTAAATATAGTATTGCC\n",
      "|||||||||||||||||||||||||||||||||||||||||||||||||||||||||||||||||||||||||||\n",
      "CATGCTACGGTGCTAAAAGCATTACGCCCTATAGTGATTTTCGAGACATACTGTGTTTTTAAATATAGTATTGCC\n",
      "****Alignment****\n",
      "sequence: gi|1390208389|gb|MH121165.1| Zaire ebolavirus isolate Ebola virus/H.sapiens-tc/COD/1995/Kikwit-9510621, complete genome\n",
      "length: 18959\n",
      "e value: 7.36416e-29\n",
      "CATGCTACGGTGCTAAAAGCATTACGCCCTATAGTGATTTTCGAGACATACTGTGTTTTTAAATATAGTATTGCC\n",
      "|||||||||||||||||||||||||||||||||||||||||||||||||||||||||||||||||||||||||||\n",
      "CATGCTACGGTGCTAAAAGCATTACGCCCTATAGTGATTTTCGAGACATACTGTGTTTTTAAATATAGTATTGCC\n",
      "****Alignment****\n",
      "sequence: gi|1129866795|gb|KY425656.1| Zaire ebolavirus isolate IRF0164, partial genome\n",
      "length: 18899\n",
      "e value: 7.36416e-29\n",
      "CATGCTACGGTGCTAAAAGCATTACGCCCTATAGTGATTTTCGAGACATACTGTGTTTTTAAATATAGTATTGCC\n",
      "|||||||||||||||||||||||||||||||||||||||||||||||||||||||||||||||||||||||||||\n",
      "CATGCTACGGTGCTAAAAGCATTACGCCCTATAGTGATTTTCGAGACATACTGTGTTTTTAAATATAGTATTGCC\n",
      "****Alignment****\n",
      "sequence: gi|1129866765|gb|KY425653.1| Zaire ebolavirus isolate IRF0120, partial genome\n",
      "length: 18894\n",
      "e value: 7.36416e-29\n",
      "CATGCTACGGTGCTAAAAGCATTACGCCCTATAGTGATTTTCGAGACATACTGTGTTTTTAAATATAGTATTGCC\n",
      "|||||||||||||||||||||||||||||||||||||||||||||||||||||||||||||||||||||||||||\n",
      "CATGCTACGGTGCTAAAAGCATTACGCCCTATAGTGATTTTCGAGACATACTGTGTTTTTAAATATAGTATTGCC\n",
      "****Alignment****\n",
      "sequence: gi|1129866755|gb|KY425652.1| Zaire ebolavirus isolate IRF0150, partial genome\n",
      "length: 18890\n",
      "e value: 7.36416e-29\n",
      "CATGCTACGGTGCTAAAAGCATTACGCCCTATAGTGATTTTCGAGACATACTGTGTTTTTAAATATAGTATTGCC\n",
      "|||||||||||||||||||||||||||||||||||||||||||||||||||||||||||||||||||||||||||\n",
      "CATGCTACGGTGCTAAAAGCATTACGCCCTATAGTGATTTTCGAGACATACTGTGTTTTTAAATATAGTATTGCC\n",
      "****Alignment****\n",
      "sequence: gi|1129866739|gb|KY425649.1| Zaire ebolavirus isolate IRF0206, partial genome\n",
      "length: 18907\n",
      "e value: 7.36416e-29\n",
      "CATGCTACGGTGCTAAAAGCATTACGCCCTATAGTGATTTTCGAGACATACTGTGTTTTTAAATATAGTATTGCC\n",
      "|||||||||||||||||||||||||||||||||||||||||||||||||||||||||||||||||||||||||||\n",
      "CATGCTACGGTGCTAAAAGCATTACGCCCTATAGTGATTTTCGAGACATACTGTGTTTTTAAATATAGTATTGCC\n",
      "****Alignment****\n",
      "sequence: gi|1129866719|gb|KY425647.1| Zaire ebolavirus isolate IRF0147, partial genome\n",
      "length: 18902\n",
      "e value: 7.36416e-29\n",
      "CATGCTACGGTGCTAAAAGCATTACGCCCTATAGTGATTTTCGAGACATACTGTGTTTTTAAATATAGTATTGCC\n",
      "|||||||||||||||||||||||||||||||||||||||||||||||||||||||||||||||||||||||||||\n",
      "CATGCTACGGTGCTAAAAGCATTACGCCCTATAGTGATTTTCGAGACATACTGTGTTTTTAAATATAGTATTGCC\n",
      "****Alignment****\n",
      "sequence: gi|1129866668|gb|KY425639.1| Zaire ebolavirus isolate IRF0175, partial genome\n",
      "length: 18880\n",
      "e value: 7.36416e-29\n",
      "CATGCTACGGTGCTAAAAGCATTACGCCCTATAGTGATTTTCGAGACATACTGTGTTTTTAAATATAGTATTGCC\n",
      "|||||||||||||||||||||||||||||||||||||||||||||||||||||||||||||||||||||||||||\n",
      "CATGCTACGGTGCTAAAAGCATTACGCCCTATAGTGATTTTCGAGACATACTGTGTTTTTAAATATAGTATTGCC\n",
      "****Alignment****\n",
      "sequence: gi|1129866655|gb|KY425637.1| Zaire ebolavirus isolate IRF0176, partial genome\n",
      "length: 18911\n",
      "e value: 7.36416e-29\n",
      "CATGCTACGGTGCTAAAAGCATTACGCCCTATAGTGATTTTCGAGACATACTGTGTTTTTAAATATAGTATTGCC\n",
      "|||||||||||||||||||||||||||||||||||||||||||||||||||||||||||||||||||||||||||\n",
      "CATGCTACGGTGCTAAAAGCATTACGCCCTATAGTGATTTTCGAGACATACTGTGTTTTTAAATATAGTATTGCC\n",
      "****Alignment****\n",
      "sequence: gi|1129866645|gb|KY425636.1| Zaire ebolavirus isolate IRF0190, partial genome\n",
      "length: 18909\n",
      "e value: 7.36416e-29\n",
      "CATGCTACGGTGCTAAAAGCATTACGCCCTATAGTGATTTTCGAGACATACTGTGTTTTTAAATATAGTATTGCC\n",
      "|||||||||||||||||||||||||||||||||||||||||||||||||||||||||||||||||||||||||||\n",
      "CATGCTACGGTGCTAAAAGCATTACGCCCTATAGTGATTTTCGAGACATACTGTGTTTTTAAATATAGTATTGCC\n",
      "****Alignment****\n",
      "sequence: gi|1129866607|gb|KY425630.1| Zaire ebolavirus isolate IRF0156, partial genome\n",
      "length: 18917\n",
      "e value: 7.36416e-29\n",
      "CATGCTACGGTGCTAAAAGCATTACGCCCTATAGTGATTTTCGAGACATACTGTGTTTTTAAATATAGTATTGCC\n",
      "|||||||||||||||||||||||||||||||||||||||||||||||||||||||||||||||||||||||||||\n",
      "CATGCTACGGTGCTAAAAGCATTACGCCCTATAGTGATTTTCGAGACATACTGTGTTTTTAAATATAGTATTGCC\n",
      "****Alignment****\n",
      "sequence: gi|973427286|gb|KU321204.1| Zaire ebolavirus isolate Ebola virus/H.sapiens-tc/COD/1995/Kikwit-9510621-0776D9 membrane-associated protein VP24 (VP24) gene, partial cds; and polymerase (L) gene, complete cds\n",
      "length: 8127\n",
      "e value: 7.36416e-29\n",
      "CATGCTACGGTGCTAAAAGCATTACGCCCTATAGTGATTTTCGAGACATACTGTGTTTTTAAATATAGTATTGCC\n",
      "|||||||||||||||||||||||||||||||||||||||||||||||||||||||||||||||||||||||||||\n",
      "CATGCTACGGTGCTAAAAGCATTACGCCCTATAGTGATTTTCGAGACATACTGTGTTTTTAAATATAGTATTGCC\n",
      "****Alignment****\n",
      "sequence: gi|973427283|gb|KU321203.1| Zaire ebolavirus isolate Ebola virus/H.sapiens-tc/COD/1995/Kikwit-9510621-1305D7 membrane-associated protein VP24 (VP24) gene, partial cds; and polymerase (L) gene, complete cds\n",
      "length: 8127\n",
      "e value: 7.36416e-29\n",
      "CATGCTACGGTGCTAAAAGCATTACGCCCTATAGTGATTTTCGAGACATACTGTGTTTTTAAATATAGTATTGCC\n",
      "|||||||||||||||||||||||||||||||||||||||||||||||||||||||||||||||||||||||||||\n",
      "CATGCTACGGTGCTAAAAGCATTACGCCCTATAGTGATTTTCGAGACATACTGTGTTTTTAAATATAGTATTGCC\n",
      "****Alignment****\n",
      "sequence: gi|973427280|gb|KU321202.1| Zaire ebolavirus isolate Ebola virus/H.sapiens-tc/COD/1995/Kikwit-9510621-1302D9 membrane-associated protein VP24 (VP24) gene, partial cds; and polymerase (L) gene, complete cds\n",
      "length: 8127\n",
      "e value: 7.36416e-29\n",
      "CATGCTACGGTGCTAAAAGCATTACGCCCTATAGTGATTTTCGAGACATACTGTGTTTTTAAATATAGTATTGCC\n",
      "|||||||||||||||||||||||||||||||||||||||||||||||||||||||||||||||||||||||||||\n",
      "CATGCTACGGTGCTAAAAGCATTACGCCCTATAGTGATTTTCGAGACATACTGTGTTTTTAAATATAGTATTGCC\n",
      "****Alignment****\n",
      "sequence: gi|973427277|gb|KU321201.1| Zaire ebolavirus isolate Ebola virus/H.sapiens-tc/COD/1995/Kikwit-9510621-2807D5 membrane-associated protein VP24 (VP24) gene, partial cds; and polymerase (L) gene, complete cds\n",
      "length: 16787\n",
      "e value: 7.36416e-29\n",
      "CATGCTACGGTGCTAAAAGCATTACGCCCTATAGTGATTTTCGAGACATACTGTGTTTTTAAATATAGTATTGCC\n",
      "|||||||||||||||||||||||||||||||||||||||||||||||||||||||||||||||||||||||||||\n",
      "CATGCTACGGTGCTAAAAGCATTACGCCCTATAGTGATTTTCGAGACATACTGTGTTTTTAAATATAGTATTGCC\n",
      "****Alignment****\n",
      "sequence: gi|973427274|gb|KU321200.1| Zaire ebolavirus isolate Ebola virus/H.sapiens-tc/COD/1995/Kikwit-9510621-2571D7 membrane-associated protein VP24 (VP24) and polymerase (L) genes, complete cds\n",
      "length: 18400\n",
      "e value: 7.36416e-29\n",
      "CATGCTACGGTGCTAAAAGCATTACGCCCTATAGTGATTTTCGAGACATACTGTGTTTTTAAATATAGTATTGCC\n",
      "|||||||||||||||||||||||||||||||||||||||||||||||||||||||||||||||||||||||||||\n",
      "CATGCTACGGTGCTAAAAGCATTACGCCCTATAGTGATTTTCGAGACATACTGTGTTTTTAAATATAGTATTGCC\n",
      "****Alignment****\n",
      "sequence: gi|973427271|gb|KU321199.1| Zaire ebolavirus isolate Ebola virus/H.sapiens-tc/COD/1995/Kikwit-9510621-2709D5 membrane-associated protein VP24 (VP24) gene, partial cds; and polymerase (L) gene, complete cds\n",
      "length: 8127\n",
      "e value: 7.36416e-29\n",
      "CATGCTACGGTGCTAAAAGCATTACGCCCTATAGTGATTTTCGAGACATACTGTGTTTTTAAATATAGTATTGCC\n",
      "|||||||||||||||||||||||||||||||||||||||||||||||||||||||||||||||||||||||||||\n",
      "CATGCTACGGTGCTAAAAGCATTACGCCCTATAGTGATTTTCGAGACATACTGTGTTTTTAAATATAGTATTGCC\n",
      "****Alignment****\n",
      "sequence: gi|973427268|gb|KU321198.1| Zaire ebolavirus isolate Ebola virus/H.sapiens-tc/COD/1995/Kikwit-9510621-2483D5 membrane-associated protein VP24 (VP24) gene, partial cds; and polymerase (L) gene, complete cds\n",
      "length: 8127\n",
      "e value: 7.36416e-29\n",
      "CATGCTACGGTGCTAAAAGCATTACGCCCTATAGTGATTTTCGAGACATACTGTGTTTTTAAATATAGTATTGCC\n",
      "|||||||||||||||||||||||||||||||||||||||||||||||||||||||||||||||||||||||||||\n",
      "CATGCTACGGTGCTAAAAGCATTACGCCCTATAGTGATTTTCGAGACATACTGTGTTTTTAAATATAGTATTGCC\n",
      "****Alignment****\n",
      "sequence: gi|973427265|gb|KU321197.1| Zaire ebolavirus isolate Ebola virus/H.sapiens-tc/COD/1995/Kikwit-9510621-2704D5 membrane-associated protein VP24 (VP24) gene, partial cds; and polymerase (L) gene, complete cds\n",
      "length: 8127\n",
      "e value: 7.36416e-29\n",
      "CATGCTACGGTGCTAAAAGCATTACGCCCTATAGTGATTTTCGAGACATACTGTGTTTTTAAATATAGTATTGCC\n",
      "|||||||||||||||||||||||||||||||||||||||||||||||||||||||||||||||||||||||||||\n",
      "CATGCTACGGTGCTAAAAGCATTACGCCCTATAGTGATTTTCGAGACATACTGTGTTTTTAAATATAGTATTGCC\n",
      "****Alignment****\n",
      "sequence: gi|973427262|gb|KU321196.1| Zaire ebolavirus isolate Ebola virus/H.sapiens-tc/COD/1995/Kikwit-9510621-1531D9 membrane-associated protein VP24 (VP24) and polymerase (L) genes, partial cds\n",
      "length: 7699\n",
      "e value: 7.36416e-29\n",
      "CATGCTACGGTGCTAAAAGCATTACGCCCTATAGTGATTTTCGAGACATACTGTGTTTTTAAATATAGTATTGCC\n",
      "|||||||||||||||||||||||||||||||||||||||||||||||||||||||||||||||||||||||||||\n",
      "CATGCTACGGTGCTAAAAGCATTACGCCCTATAGTGATTTTCGAGACATACTGTGTTTTTAAATATAGTATTGCC\n",
      "****Alignment****\n",
      "sequence: gi|973427259|gb|KU321195.1| Zaire ebolavirus isolate Ebola virus/H.sapiens-tc/COD/1995/Kikwit-9510621-1282D5 membrane-associated protein VP24 (VP24) gene, partial cds; and polymerase (L) gene, complete cds\n",
      "length: 7933\n",
      "e value: 7.36416e-29\n",
      "CATGCTACGGTGCTAAAAGCATTACGCCCTATAGTGATTTTCGAGACATACTGTGTTTTTAAATATAGTATTGCC\n",
      "|||||||||||||||||||||||||||||||||||||||||||||||||||||||||||||||||||||||||||\n",
      "CATGCTACGGTGCTAAAAGCATTACGCCCTATAGTGATTTTCGAGACATACTGTGTTTTTAAATATAGTATTGCC\n",
      "****Alignment****\n",
      "sequence: gi|973427256|gb|KU321194.1| Zaire ebolavirus isolate Ebola virus/H.sapiens-tc/COD/1995/Kikwit-9510621-1509D5 membrane-associated protein VP24 (VP24) gene, partial cds; and polymerase (L) gene, complete cds\n",
      "length: 8127\n",
      "e value: 7.36416e-29\n",
      "CATGCTACGGTGCTAAAAGCATTACGCCCTATAGTGATTTTCGAGACATACTGTGTTTTTAAATATAGTATTGCC\n",
      "|||||||||||||||||||||||||||||||||||||||||||||||||||||||||||||||||||||||||||\n",
      "CATGCTACGGTGCTAAAAGCATTACGCCCTATAGTGATTTTCGAGACATACTGTGTTTTTAAATATAGTATTGCC\n",
      "****Alignment****\n",
      "sequence: gi|973427253|gb|KU321193.1| Zaire ebolavirus isolate Ebola virus/H.sapiens-tc/COD/1995/Kikwit-9510621-2807D9 membrane-associated protein VP24 (VP24) gene, partial cds; and polymerase (L) gene, complete cds\n",
      "length: 16060\n",
      "e value: 7.36416e-29\n",
      "CATGCTACGGTGCTAAAAGCATTACGCCCTATAGTGATTTTCGAGACATACTGTGTTTTTAAATATAGTATTGCC\n",
      "|||||||||||||||||||||||||||||||||||||||||||||||||||||||||||||||||||||||||||\n",
      "CATGCTACGGTGCTAAAAGCATTACGCCCTATAGTGATTTTCGAGACATACTGTGTTTTTAAATATAGTATTGCC\n"
     ]
    }
   ],
   "source": [
    "E_VALUE_THRESH = 0.01\n",
    "for alignment in blast_record.alignments:\n",
    "    for hsp in alignment.hsps:\n",
    "            if hsp.expect < E_VALUE_THRESH:\n",
    "                    print('****Alignment****')\n",
    "                    print('sequence:', alignment.title)\n",
    "                    print('length:', alignment.length)\n",
    "                    print('e value:', hsp.expect)\n",
    "                    print(hsp.query)\n",
    "                    print(hsp.match)\n",
    "                    print(hsp.sbjct)"
   ]
  },
  {
   "cell_type": "code",
   "execution_count": null,
   "metadata": {},
   "outputs": [],
   "source": []
  }
 ],
 "metadata": {
  "kernelspec": {
   "display_name": "Python 3",
   "language": "python",
   "name": "python3"
  },
  "language_info": {
   "codemirror_mode": {
    "name": "ipython",
    "version": 3
   },
   "file_extension": ".py",
   "mimetype": "text/x-python",
   "name": "python",
   "nbconvert_exporter": "python",
   "pygments_lexer": "ipython3",
   "version": "3.7.3"
  }
 },
 "nbformat": 4,
 "nbformat_minor": 2
}
